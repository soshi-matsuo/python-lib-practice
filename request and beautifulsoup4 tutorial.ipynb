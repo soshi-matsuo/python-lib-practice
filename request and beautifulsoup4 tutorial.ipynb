{
 "cells": [
  {
   "cell_type": "markdown",
   "metadata": {},
   "source": [
    "# Scraping HTML with requests & BeautifulSoup4 "
   ]
  },
  {
   "cell_type": "code",
   "execution_count": 2,
   "metadata": {},
   "outputs": [
    {
     "name": "stdout",
     "output_type": "stream",
     "text": [
      "<class 'requests.models.Response'>\n",
      "200\n"
     ]
    }
   ],
   "source": [
    "import requests\n",
    "\n",
    "r=requests.get('https://codezine.jp/')\n",
    "print(type(r))\n",
    "print(r.status_code)"
   ]
  },
  {
   "cell_type": "code",
   "execution_count": 3,
   "metadata": {},
   "outputs": [
    {
     "name": "stdout",
     "output_type": "stream",
     "text": [
      "<title>CodeZine（コードジン）</title>\n",
      "<h1><a href=\"/\"><img src=\"/lib/img/cmn/cmn-header-logo.png\" alt=\"CodeZine（コードジン）\" ></a></h1>\n"
     ]
    }
   ],
   "source": [
    "text = r.text\n",
    "for line in text.split('\\n'):\n",
    "    if '<title>' in line or '<h1>' in line:\n",
    "        print(line.strip())"
   ]
  },
  {
   "cell_type": "code",
   "execution_count": 4,
   "metadata": {},
   "outputs": [
    {
     "name": "stdout",
     "output_type": "stream",
     "text": [
      "<title>CodeZine（コードジン）</title>\n",
      "<h1><a href=\"/\"><img alt=\"CodeZine（コードジン）\" src=\"/lib/img/cmn/cmn-header-logo.png\"/></a></h1>\n",
      "CodeZine（コードジン）\n"
     ]
    }
   ],
   "source": [
    "from bs4 import BeautifulSoup\n",
    "\n",
    "# analyze html\n",
    "soup = BeautifulSoup(text,'html.parser')\n",
    "# get each elements\n",
    "print(soup.title)\n",
    "print(soup.h1)\n",
    "print(soup.h1.a.img['alt'])"
   ]
  },
  {
   "cell_type": "code",
   "execution_count": 5,
   "metadata": {},
   "outputs": [
    {
     "name": "stdout",
     "output_type": "stream",
     "text": [
      "aTags number: 167\n",
      "title: このページの本文へ移動\n",
      "link: #contents\n",
      "title: 企業IT\n",
      "link: https://enterprisezine.jp/\n",
      "title: 開発\n",
      "link: https://codezine.jp/\n",
      "title: データベース\n",
      "link: https://enterprisezine.jp/dbonline/\n",
      "title: セキュリティ\n",
      "link: https://enterprisezine.jp/securityonline/\n"
     ]
    }
   ],
   "source": [
    "atags = soup.find_all('a')\n",
    "print('aTags number:',len(atags))\n",
    "for atag in atags[:5]:\n",
    "    print('title:',atag.text)\n",
    "    print('link:',atag['href'])"
   ]
  },
  {
   "cell_type": "code",
   "execution_count": 6,
   "metadata": {},
   "outputs": [],
   "source": [
    "# gather data from index related to Python\n",
    "from datetime import datetime\n",
    "import requests\n",
    "from bs4 import BeautifulSoup\n",
    "\n",
    "r= requests.get('https://codezine.jp/article/tag/223')\n",
    "soup = BeautifulSoup(r.text,'html.parser')\n",
    "\n",
    "articles = [] #inventory\n",
    "\n",
    "lis = soup.select('ul.catList > li')\n",
    "for li in lis:\n",
    "    #get day and convert into datetime\n",
    "    day = li.find('div', class_='day').text.strip()\n",
    "    published = datetime.strptime(day,'%Y/%m/%d')\n",
    "    \n",
    "    h2_tag = li.find('h2')\n",
    "    title = h2_tag.text\n",
    "    url = h2_tag.a['href']\n",
    "    \n",
    "    tag_list = li.select('ul.tag > li')\n",
    "    tags = [tag.text.strip() for tag in tag_list]\n",
    "    \n",
    "    article = {\n",
    "        'published':published,\n",
    "        'title':title,\n",
    "        'url':url,\n",
    "        'tags':tags\n",
    "    }\n",
    "    articles.append(article)"
   ]
  },
  {
   "cell_type": "code",
   "execution_count": 7,
   "metadata": {},
   "outputs": [
    {
     "data": {
      "text/plain": [
       "[{'published': datetime.datetime(2018, 9, 28, 0, 0),\n",
       "  'title': 'データ分析エンジニアの役割とは？ Pythonと機械学習はどう役立つ？',\n",
       "  'url': '/article/detail/11067',\n",
       "  'tags': ['Python', 'データ分析']},\n",
       " {'published': datetime.datetime(2018, 9, 26, 0, 0),\n",
       "  'title': 'PyTorchで深層学習を始めたい人のための基礎を紹介 データ構造のTensorと自動微分の使い方について',\n",
       "  'url': '/article/detail/11052',\n",
       "  'tags': ['Python']},\n",
       " {'published': datetime.datetime(2018, 9, 20, 0, 0),\n",
       "  'title': 'データ分析エンジニアの基礎をひととおり 『あたらしいPythonによるデータ分析の教科書』発売',\n",
       "  'url': '/article/detail/11059',\n",
       "  'tags': ['Python', 'データ分析', '機械学習']}]"
      ]
     },
     "execution_count": 7,
     "metadata": {},
     "output_type": "execute_result"
    }
   ],
   "source": [
    "articles[:3]"
   ]
  },
  {
   "cell_type": "code",
   "execution_count": 8,
   "metadata": {},
   "outputs": [],
   "source": [
    "import pandas as pd\n",
    "df = pd.DataFrame(articles)"
   ]
  },
  {
   "cell_type": "code",
   "execution_count": 9,
   "metadata": {},
   "outputs": [
    {
     "data": {
      "text/html": [
       "<div>\n",
       "<style scoped>\n",
       "    .dataframe tbody tr th:only-of-type {\n",
       "        vertical-align: middle;\n",
       "    }\n",
       "\n",
       "    .dataframe tbody tr th {\n",
       "        vertical-align: top;\n",
       "    }\n",
       "\n",
       "    .dataframe thead th {\n",
       "        text-align: right;\n",
       "    }\n",
       "</style>\n",
       "<table border=\"1\" class=\"dataframe\">\n",
       "  <thead>\n",
       "    <tr style=\"text-align: right;\">\n",
       "      <th></th>\n",
       "      <th>published</th>\n",
       "      <th>tags</th>\n",
       "      <th>title</th>\n",
       "      <th>url</th>\n",
       "    </tr>\n",
       "  </thead>\n",
       "  <tbody>\n",
       "    <tr>\n",
       "      <th>0</th>\n",
       "      <td>2018-09-28</td>\n",
       "      <td>[Python, データ分析]</td>\n",
       "      <td>データ分析エンジニアの役割とは？ Pythonと機械学習はどう役立つ？</td>\n",
       "      <td>/article/detail/11067</td>\n",
       "    </tr>\n",
       "    <tr>\n",
       "      <th>1</th>\n",
       "      <td>2018-09-26</td>\n",
       "      <td>[Python]</td>\n",
       "      <td>PyTorchで深層学習を始めたい人のための基礎を紹介 データ構造のTensorと自動微分の...</td>\n",
       "      <td>/article/detail/11052</td>\n",
       "    </tr>\n",
       "    <tr>\n",
       "      <th>2</th>\n",
       "      <td>2018-09-20</td>\n",
       "      <td>[Python, データ分析, 機械学習]</td>\n",
       "      <td>データ分析エンジニアの基礎をひととおり 『あたらしいPythonによるデータ分析の教科書』発売</td>\n",
       "      <td>/article/detail/11059</td>\n",
       "    </tr>\n",
       "    <tr>\n",
       "      <th>3</th>\n",
       "      <td>2018-09-19</td>\n",
       "      <td>[Python]</td>\n",
       "      <td>OSSのPyTorchで深層学習モデルを作ってみたいなら 『現場で使える！PyTorch開発...</td>\n",
       "      <td>/article/detail/11046</td>\n",
       "    </tr>\n",
       "    <tr>\n",
       "      <th>4</th>\n",
       "      <td>2018-09-06</td>\n",
       "      <td>[Python]</td>\n",
       "      <td>Pythonでデータと向き合いながら価値を見出す「探索的データ解析」に挑戦しよう</td>\n",
       "      <td>/article/detail/11043</td>\n",
       "    </tr>\n",
       "    <tr>\n",
       "      <th>5</th>\n",
       "      <td>2018-09-01</td>\n",
       "      <td>[Python, イベントレポート]</td>\n",
       "      <td>「PyCon JP 2018 ひろがるPython」登壇者座談会 ～わたしのPythonのひ...</td>\n",
       "      <td>/article/detail/11031</td>\n",
       "    </tr>\n",
       "    <tr>\n",
       "      <th>6</th>\n",
       "      <td>2018-07-05</td>\n",
       "      <td>[Python, レポート]</td>\n",
       "      <td>クイズ王たちを凌駕する早押しクイズAIはこう作る～PyData.Tokyo Meetup #...</td>\n",
       "      <td>/article/detail/10865</td>\n",
       "    </tr>\n",
       "    <tr>\n",
       "      <th>7</th>\n",
       "      <td>2018-07-02</td>\n",
       "      <td>[Python, データ分析]</td>\n",
       "      <td>本格的なPythonデータ解析環境を手軽に！ 「Jupyter Notebook」の導入から...</td>\n",
       "      <td>/article/detail/10917</td>\n",
       "    </tr>\n",
       "    <tr>\n",
       "      <th>8</th>\n",
       "      <td>2018-05-17</td>\n",
       "      <td>[Python, インタビュー, TensorFlow, Keras]</td>\n",
       "      <td>目指したのは気軽に深層学習を試せる本 『TensorFlow開発入門』著者陣が語る</td>\n",
       "      <td>/article/detail/10805</td>\n",
       "    </tr>\n",
       "    <tr>\n",
       "      <th>9</th>\n",
       "      <td>2018-04-20</td>\n",
       "      <td>[Python, インタビュー, 統計学]</td>\n",
       "      <td>データを扱う開発者なら統計学の知識は大きな強みに～Pythonを使って基礎から学ぶ</td>\n",
       "      <td>/article/detail/10765</td>\n",
       "    </tr>\n",
       "    <tr>\n",
       "      <th>10</th>\n",
       "      <td>2018-04-13</td>\n",
       "      <td>[Python, 統計学]</td>\n",
       "      <td>データ分析に不可欠の統計学をPythonで学べる！『Pythonで学ぶあたらしい統計学の教科...</td>\n",
       "      <td>/article/detail/10734</td>\n",
       "    </tr>\n",
       "    <tr>\n",
       "      <th>11</th>\n",
       "      <td>2018-01-29</td>\n",
       "      <td>[Python, インタビュー, 機械学習]</td>\n",
       "      <td>機械学習の理解を数学で挫折してしまった人のために――『あたらしい機械学習の教科書』伊藤真さんに訊く</td>\n",
       "      <td>/article/detail/10631</td>\n",
       "    </tr>\n",
       "    <tr>\n",
       "      <th>12</th>\n",
       "      <td>2018-01-17</td>\n",
       "      <td>[Python, 機械学習]</td>\n",
       "      <td>機械学習を始めたい！ まずは『Pythonで動かして学ぶ！ あたらしい機械学習の教科書』で感...</td>\n",
       "      <td>/article/detail/10583</td>\n",
       "    </tr>\n",
       "    <tr>\n",
       "      <th>13</th>\n",
       "      <td>2017-11-10</td>\n",
       "      <td>[Python, イベントレポート]</td>\n",
       "      <td>「技術カンファレンスへの参加の秘訣は臆せず飛び込むこと」――PyCon JP 2017発表者...</td>\n",
       "      <td>/article/detail/10507</td>\n",
       "    </tr>\n",
       "    <tr>\n",
       "      <th>14</th>\n",
       "      <td>2017-10-30</td>\n",
       "      <td>[Python, インタビュー]</td>\n",
       "      <td>データ収集だけ解説しても意味がない―『Pythonによるクローラー＆スクレイピング入門』イン...</td>\n",
       "      <td>/article/detail/10449</td>\n",
       "    </tr>\n",
       "    <tr>\n",
       "      <th>15</th>\n",
       "      <td>2017-10-23</td>\n",
       "      <td>[Python]</td>\n",
       "      <td>目的別の設計からデータ解析の手法も！『Pythonによるクローラー＆スクレイピング入門』</td>\n",
       "      <td>/article/detail/10425</td>\n",
       "    </tr>\n",
       "    <tr>\n",
       "      <th>16</th>\n",
       "      <td>2017-08-31</td>\n",
       "      <td>[Python, イベントレポート]</td>\n",
       "      <td>PyCon JP 2017開催直前、緊急座談会　～採択倍率4倍を潜り抜けた登壇者たちが、発表...</td>\n",
       "      <td>/article/detail/10391</td>\n",
       "    </tr>\n",
       "    <tr>\n",
       "      <th>17</th>\n",
       "      <td>2017-08-16</td>\n",
       "      <td>[Python, インタビュー]</td>\n",
       "      <td>Pythonは今のうちに習得すべき？『スラスラわかるPython』著者・岩崎さんとPyCon...</td>\n",
       "      <td>/article/detail/10329</td>\n",
       "    </tr>\n",
       "    <tr>\n",
       "      <th>18</th>\n",
       "      <td>2017-08-09</td>\n",
       "      <td>[Python]</td>\n",
       "      <td>機械学習をやるならPythonの時代？ 初心者の目線で「なぜ」を解説する『スラスラわかるPy...</td>\n",
       "      <td>/article/detail/10295</td>\n",
       "    </tr>\n",
       "    <tr>\n",
       "      <th>19</th>\n",
       "      <td>2017-05-12</td>\n",
       "      <td>[Python]</td>\n",
       "      <td>Pythonで使って覚えるEvernote API</td>\n",
       "      <td>/article/detail/10055</td>\n",
       "    </tr>\n",
       "  </tbody>\n",
       "</table>\n",
       "</div>"
      ],
      "text/plain": [
       "    published                                 tags  \\\n",
       "0  2018-09-28                      [Python, データ分析]   \n",
       "1  2018-09-26                             [Python]   \n",
       "2  2018-09-20                [Python, データ分析, 機械学習]   \n",
       "3  2018-09-19                             [Python]   \n",
       "4  2018-09-06                             [Python]   \n",
       "5  2018-09-01                   [Python, イベントレポート]   \n",
       "6  2018-07-05                       [Python, レポート]   \n",
       "7  2018-07-02                      [Python, データ分析]   \n",
       "8  2018-05-17  [Python, インタビュー, TensorFlow, Keras]   \n",
       "9  2018-04-20                [Python, インタビュー, 統計学]   \n",
       "10 2018-04-13                        [Python, 統計学]   \n",
       "11 2018-01-29               [Python, インタビュー, 機械学習]   \n",
       "12 2018-01-17                       [Python, 機械学習]   \n",
       "13 2017-11-10                   [Python, イベントレポート]   \n",
       "14 2017-10-30                     [Python, インタビュー]   \n",
       "15 2017-10-23                             [Python]   \n",
       "16 2017-08-31                   [Python, イベントレポート]   \n",
       "17 2017-08-16                     [Python, インタビュー]   \n",
       "18 2017-08-09                             [Python]   \n",
       "19 2017-05-12                             [Python]   \n",
       "\n",
       "                                                title                    url  \n",
       "0                 データ分析エンジニアの役割とは？ Pythonと機械学習はどう役立つ？  /article/detail/11067  \n",
       "1   PyTorchで深層学習を始めたい人のための基礎を紹介 データ構造のTensorと自動微分の...  /article/detail/11052  \n",
       "2     データ分析エンジニアの基礎をひととおり 『あたらしいPythonによるデータ分析の教科書』発売  /article/detail/11059  \n",
       "3   OSSのPyTorchで深層学習モデルを作ってみたいなら 『現場で使える！PyTorch開発...  /article/detail/11046  \n",
       "4            Pythonでデータと向き合いながら価値を見出す「探索的データ解析」に挑戦しよう  /article/detail/11043  \n",
       "5   「PyCon JP 2018 ひろがるPython」登壇者座談会 ～わたしのPythonのひ...  /article/detail/11031  \n",
       "6   クイズ王たちを凌駕する早押しクイズAIはこう作る～PyData.Tokyo Meetup #...  /article/detail/10865  \n",
       "7   本格的なPythonデータ解析環境を手軽に！ 「Jupyter Notebook」の導入から...  /article/detail/10917  \n",
       "8           目指したのは気軽に深層学習を試せる本 『TensorFlow開発入門』著者陣が語る  /article/detail/10805  \n",
       "9           データを扱う開発者なら統計学の知識は大きな強みに～Pythonを使って基礎から学ぶ  /article/detail/10765  \n",
       "10  データ分析に不可欠の統計学をPythonで学べる！『Pythonで学ぶあたらしい統計学の教科...  /article/detail/10734  \n",
       "11  機械学習の理解を数学で挫折してしまった人のために――『あたらしい機械学習の教科書』伊藤真さんに訊く  /article/detail/10631  \n",
       "12  機械学習を始めたい！ まずは『Pythonで動かして学ぶ！ あたらしい機械学習の教科書』で感...  /article/detail/10583  \n",
       "13  「技術カンファレンスへの参加の秘訣は臆せず飛び込むこと」――PyCon JP 2017発表者...  /article/detail/10507  \n",
       "14  データ収集だけ解説しても意味がない―『Pythonによるクローラー＆スクレイピング入門』イン...  /article/detail/10449  \n",
       "15       目的別の設計からデータ解析の手法も！『Pythonによるクローラー＆スクレイピング入門』  /article/detail/10425  \n",
       "16  PyCon JP 2017開催直前、緊急座談会　～採択倍率4倍を潜り抜けた登壇者たちが、発表...  /article/detail/10391  \n",
       "17  Pythonは今のうちに習得すべき？『スラスラわかるPython』著者・岩崎さんとPyCon...  /article/detail/10329  \n",
       "18  機械学習をやるならPythonの時代？ 初心者の目線で「なぜ」を解説する『スラスラわかるPy...  /article/detail/10295  \n",
       "19                          Pythonで使って覚えるEvernote API  /article/detail/10055  "
      ]
     },
     "execution_count": 9,
     "metadata": {},
     "output_type": "execute_result"
    }
   ],
   "source": [
    "df"
   ]
  },
  {
   "cell_type": "code",
   "execution_count": null,
   "metadata": {},
   "outputs": [],
   "source": []
  }
 ],
 "metadata": {
  "kernelspec": {
   "display_name": "pydata",
   "language": "python",
   "name": "pydata"
  },
  "language_info": {
   "codemirror_mode": {
    "name": "ipython",
    "version": 3
   },
   "file_extension": ".py",
   "mimetype": "text/x-python",
   "name": "python",
   "nbconvert_exporter": "python",
   "pygments_lexer": "ipython3",
   "version": "3.6.6"
  }
 },
 "nbformat": 4,
 "nbformat_minor": 2
}
